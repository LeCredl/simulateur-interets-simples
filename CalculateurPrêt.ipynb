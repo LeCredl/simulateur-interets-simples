{
  "nbformat": 4,
  "nbformat_minor": 0,
  "metadata": {
    "colab": {
      "provenance": [],
      "authorship_tag": "ABX9TyPM/+VeYXjnMfRc/5OLqgcn",
      "include_colab_link": true
    },
    "kernelspec": {
      "name": "python3",
      "display_name": "Python 3"
    },
    "language_info": {
      "name": "python"
    }
  },
  "cells": [
    {
      "cell_type": "markdown",
      "metadata": {
        "id": "view-in-github",
        "colab_type": "text"
      },
      "source": [
        "<a href=\"https://colab.research.google.com/github/LeCredl/simulateur-interets-simples/blob/master/CalculateurPr%C3%AAt.ipynb\" target=\"_parent\"><img src=\"https://colab.research.google.com/assets/colab-badge.svg\" alt=\"Open In Colab\"/></a>"
      ]
    },
    {
      "cell_type": "code",
      "execution_count": 1,
      "metadata": {
        "colab": {
          "base_uri": "https://localhost:8080/"
        },
        "id": "hZvuBvEU2evY",
        "outputId": "f30df940-f13d-4349-c106-0a6fe969016f"
      },
      "outputs": [
        {
          "output_type": "stream",
          "name": "stdout",
          "text": [
            "Entrez le capital : 150000\n",
            "Entrez le taux d'intérêt annuel (en %) : 1\n",
            "Entrez la durée (en années) : 15\n",
            "Intérêts simples : 22500.00\n",
            "Total dû : 172500.00\n"
          ]
        }
      ],
      "source": [
        "def calcul_interets_simples(capital, taux, duree):\n",
        "    \"\"\"\n",
        "    Calcule les intérêts simples et le total dû.\n",
        "\n",
        "    Parametres:\n",
        "    - capital (float) : le montant de base.\n",
        "    - taux (float) : le taux d'intérêt annuel en pourcentage.\n",
        "    - duree (float) : la durée en années.\n",
        "\n",
        "    Résultat:\n",
        "    - tuple : (intérêts, total dû)\n",
        "    \"\"\"\n",
        "    interets = capital * (taux / 100) * duree\n",
        "    total_du = capital + interets\n",
        "    return interets, total_du\n",
        "\n",
        "def main():\n",
        "    try:\n",
        "        capital = float(input(\"Entrez le capital : \"))\n",
        "        taux = float(input(\"Entrez le taux d'intérêt annuel (en %) : \"))\n",
        "        duree = float(input(\"Entrez la durée (en années) : \"))\n",
        "\n",
        "        interets, total_du = calcul_interets_simples(capital, taux, duree)\n",
        "        print(f\"Intérêts simples : {interets:.2f}\")\n",
        "        print(f\"Total dû : {total_du:.2f}\")\n",
        "    except ValueError:\n",
        "        print(\"Erreur : veuillez entrer des valeurs numériques valides.\")\n",
        "\n",
        "if __name__ == \"__main__\":\n",
        "    main()"
      ]
    }
  ]
}